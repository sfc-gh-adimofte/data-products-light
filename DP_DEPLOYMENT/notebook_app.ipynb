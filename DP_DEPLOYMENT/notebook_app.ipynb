{
 "metadata": {
  "kernelspec": {
   "display_name": "Streamlit Notebook",
   "name": "streamlit"
  }
 },
 "nbformat_minor": 5,
 "nbformat": 4,
 "cells": [
  {
   "cell_type": "code",
   "id": "3775908f-ca36-4846-8f38-5adca39217f2",
   "metadata": {
    "language": "python",
    "name": "cell1",
    "collapsed": false
   },
   "source": "import os\nimport yaml\nimport io\nfrom jinja2 import Environment, FileSystemLoader\nfrom snowflake.snowpark.context import get_active_session\n\ndef load_yaml_file(file_path):\n    with open(file_path, 'r') as file:\n        return yaml.safe_load(file)\n\ndef create_data_product_teams_dict(data_product_teams_path):\n    data_dict = {}\n    \n    for subfolder in os.listdir(data_product_teams_path):\n        subfolder_path = os.path.join(data_product_teams_path, subfolder)\n        \n        if os.path.isdir(subfolder_path):\n            data_dict[subfolder] = {}\n            \n            data_products_file = os.path.join(subfolder_path, 'data-products.yaml')\n            data_sources_file = os.path.join(subfolder_path, 'data-sources.yaml')\n            \n            if os.path.exists(data_products_file):\n                data_dict[subfolder]['data-products'] = load_yaml_file(data_products_file)\n            \n            if os.path.exists(data_sources_file):\n                data_dict[subfolder]['data-sources'] = load_yaml_file(data_sources_file)\n    \n    return data_dict\n\ndef main():\n    data_product_teams_path = 'DATA-PRODUCT-TEAMS'\n    dp_deployment_path = 'DP_DEPLOYMENT'\n    \n    data_product_teams_dict = create_data_product_teams_dict(data_product_teams_path)\n\n    env = Environment(loader=FileSystemLoader(dp_deployment_path))\n    data_product_team_template = env.get_template('data_product_team.sql.jinja')\n    data_product_template = env.get_template('data_product.sql.jinja')\n    data_source_template = env.get_template('data_source.sql.jinja')\n\n    session = get_active_session()\n    \n    for team_name, team_data in data_product_teams_dict.items():\n        data_product_team_sql = data_product_team_template.render(data_product_team=team_name)\n        print(session.file.put_stream(io.BytesIO(data_product_team_sql.encode('utf-8')), \\\n                                    f'platform_admin.scripts.{team_name}/create_data_product_team_{team_name}.sql', \\\n                                    auto_compress=False,\n                                    overwrite=True))\n        \n        for data_product in team_data['data-products']:\n            data_product_sql = data_product_template.render(data_product_team=team_name, data_product=data_product)\n            print(session.file.put_stream(io.BytesIO(data_product_sql.encode('utf-8')), \\\n                                        f'platform_admin.scripts.{team_name}/create_data_product_{team_name}_{data_product}.sql', \\\n                                        auto_compress=False,\n                                        overwrite=True))\n\n        for data_source in team_data['data-sources']:\n            data_source_sql = data_source_template.render(data_product_team=team_name, data_source=data_source)\n            print(session.file.put_stream(io.BytesIO(data_source_sql.encode('utf-8')), \\\n                                        f'platform_admin.scripts.{team_name}/create_data_sourcet_{team_name}_{data_source}.sql', \\\n                                        auto_compress=False,\n                                        overwrite=True))\n\nif __name__ == \"__main__\":\n    main()\n",
   "execution_count": null,
   "outputs": []
  }
 ]
}